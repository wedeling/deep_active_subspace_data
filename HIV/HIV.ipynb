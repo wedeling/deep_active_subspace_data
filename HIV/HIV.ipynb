{
 "cells": [
  {
   "cell_type": "markdown",
   "id": "2f4f377e",
   "metadata": {},
   "source": [
    "# Replication of results for the HIV model\n",
    "\n",
    "This is a notebook to recreate the results of Section 8 of\n",
    "\n",
    "W.N. Edeling, \"On the deep active subspace method\", (submitted), 2021.\n",
    "\n",
    "Here we will apply the deep active subspace method to an HIV model consisting of 7 coupled ordinary differential equations, with 27 uncertain input parameters, see the article above for more information.\n",
    "\n",
    "### Requirements\n",
    "\n",
    "The Deep Active Subspace method (original reference below) is implemented in [EasySurrogate](https://github.com/wedeling/EasySurrogate). To install, simply uncomment the `!pip install` line below. Furthermore, `scipy`, `seaborn` and `pandas` are also required.\n",
    "\n",
    "Tripathy, R., & Bilionis, I. (2019, August). Deep active subspaces: A scalable method for high-dimensional uncertainty propagation. In International Design Engineering Technical Conferences and Computers and Information in Engineering Conference (Vol. 59179, p. V001T02A074). American Society of Mechanical Engineers."
   ]
  },
  {
   "cell_type": "code",
   "execution_count": 1,
   "id": "21d79ecb",
   "metadata": {},
   "outputs": [],
   "source": [
    "#!pip install easysurrogate==0.18"
   ]
  },
  {
   "cell_type": "code",
   "execution_count": 2,
   "id": "2defd753",
   "metadata": {},
   "outputs": [],
   "source": [
    "import numpy as np\n",
    "import matplotlib.pyplot as plt\n",
    "import easysurrogate as es\n",
    "from scipy import linalg\n",
    "import pandas as pd\n",
    "import seaborn as sns"
   ]
  },
  {
   "cell_type": "code",
   "execution_count": 3,
   "id": "e947a0de",
   "metadata": {},
   "outputs": [],
   "source": [
    "# select the seismic color scheme\n",
    "plt.rcParams['image.cmap'] = 'seismic'"
   ]
  },
  {
   "cell_type": "markdown",
   "id": "7488d242",
   "metadata": {},
   "source": [
    "### EasySurrogate campaign\n",
    "\n",
    "EasySurrogate's basic object is called a `campaign', which handles the data. "
   ]
  },
  {
   "cell_type": "code",
   "execution_count": 4,
   "id": "945e9f60",
   "metadata": {},
   "outputs": [],
   "source": [
    "# Create EasySurrogate campaign\n",
    "campaign = es.Campaign()"
   ]
  },
  {
   "cell_type": "markdown",
   "id": "e86c761b",
   "metadata": {},
   "source": [
    "### Load training data\n",
    "\n",
    "Here we use the campaign to load the training data, which is precomputed and stored in the `my_samples.hdf5` file. We also load the model gradients from https://github.com/paulcon/as-data-sets/tree/master/HIV to compute the reference (original) active subspace."
   ]
  },
  {
   "cell_type": "code",
   "execution_count": 5,
   "id": "089a0781",
   "metadata": {},
   "outputs": [
    {
     "name": "stdout",
     "output_type": "stream",
     "text": [
      "Loaded inputs\n",
      "Loaded outputs\n"
     ]
    }
   ],
   "source": [
    "##########################\n",
    "# Generate training data #\n",
    "##########################\n",
    "\n",
    "# number of inputs\n",
    "D = 27\n",
    "\n",
    "# the times (in days) at which the HIV model was sampled\n",
    "times = np.array([5, 15, 24, 38, 40, 45, 50, 55, 65, 90, 140, 500, 750,\n",
    "                  1000, 1600, 1800, 2000, 2200, 2400, 2800, 3400])\n",
    "T = times.size\n",
    "\n",
    "# Use derivative data from https://github.com/paulcon/as-data-sets/tree/master/HIV\n",
    "derivatives = pd.read_csv('./gradients.csv').values[:, 1:]\n",
    "derivatives = derivatives.reshape([-1, T, D])\n",
    "\n",
    "# Load HDF5  training data using the Campaign\n",
    "data = campaign.load_hdf5_data(file_path='my_samples.hdf5')\n",
    "# input parameters in [-1, 1]\n",
    "params = data['inputs']\n",
    "# output (T-cell counts at times)\n",
    "samples = data['outputs']\n",
    "\n",
    "# time index at which to construct an active subspace\n",
    "I = 5\n",
    "samples = samples[:, I].reshape([-1, 1])\n",
    "derivatives = derivatives[:, I, :]\n",
    "# scale the derivatives for consistency with the standardized ANN and DAS results\n",
    "derivatives /= np.std(samples)"
   ]
  },
  {
   "cell_type": "markdown",
   "id": "46b082ba",
   "metadata": {},
   "source": [
    "### Train a artificial neural network\n",
    "\n",
    "We first train a vanilla artificial neural network without a DAS layer. The inputs are already normalized to lie within $[-1, 1]$, and we standardize the output."
   ]
  },
  {
   "cell_type": "code",
   "execution_count": 6,
   "id": "21cc5b1b",
   "metadata": {},
   "outputs": [
    {
     "name": "stdout",
     "output_type": "stream",
     "text": [
      "Creating ANN_Surrogate Object\n",
      "Creating Feature Engineering object\n",
      "Using  900/1000 samples to train the ML model\n",
      "done preparing data\n",
      "===============================\n",
      "Neural net parameters\n",
      "===============================\n",
      "Number of layers = 4\n",
      "Number of features = 27\n",
      "Loss function = squared\n",
      "Number of neurons per hidden layer = 100\n",
      "Number of output neurons = 1\n",
      "Activation hidden layers = tanh\n",
      "Activation output layer = linear\n",
      "This neural network has 23101 weights.\n",
      "===============================\n",
      "===============================\n",
      "Training Artificial Neural Network...\n",
      "Batch 0 learning rate 0.001 loss: 1.2619615545134986\n",
      "Batch 1000 learning rate 0.001 loss: 0.00037917762480924424\n",
      "Batch 2000 learning rate 0.001 loss: 2.759798702631921e-05\n",
      "Batch 3000 learning rate 0.001 loss: 1.4949282438578597e-05\n",
      "Batch 4000 learning rate 0.001 loss: 0.00026023507363433576\n",
      "Batch 5000 learning rate 0.001 loss: 0.00010363113575877683\n",
      "Batch 6000 learning rate 0.001 loss: 0.0005415090548963435\n",
      "Batch 7000 learning rate 0.001 loss: 0.000576926619983009\n",
      "Batch 8000 learning rate 0.001 loss: 0.00011250983371529431\n",
      "Batch 9000 learning rate 0.001 loss: 6.162345446165952e-05\n"
     ]
    }
   ],
   "source": [
    "##########################\n",
    "# Train an ANN surrogate #\n",
    "##########################\n",
    "\n",
    "ann_surrogate = es.methods.ANN_Surrogate()\n",
    "# train ANN. the input parameters are already scaled to [-1, 1], so no need to\n",
    "# standardize these\n",
    "ann_surrogate.train(params, samples, \n",
    "                n_iter=10000, n_layers=4, n_neurons=100, test_frac = 0.1, activation='tanh',\n",
    "                batch_size = 64, standardize_X=False, standardize_y=True)\n",
    "\n",
    "# dict with some dimenions of the ANN\n",
    "# dims = ann_surrogate.get_dimensions()"
   ]
  },
  {
   "cell_type": "markdown",
   "id": "2b33c185",
   "metadata": {},
   "source": [
    "### Compute the original active subspace of the ANN\n",
    "\n",
    "Here we solve the original active subspace of the neural network"
   ]
  },
  {
   "cell_type": "code",
   "execution_count": 7,
   "id": "9e90fd89",
   "metadata": {},
   "outputs": [],
   "source": [
    "# Number of Monte Carlo samples\n",
    "n_mc = params.shape[0]\n",
    "\n",
    "# gradient matrix for the ANN\n",
    "C_ann = 0.0\n",
    "\n",
    "# compute the derivative of the neural net output for every input\n",
    "for i, param in enumerate(params):\n",
    "    df_dx = ann_surrogate.derivative(param, norm=False)\n",
    "    # construct the C matrix\n",
    "    C_ann += np.dot(df_dx, df_dx.T) / n_mc\n",
    "\n",
    "# Solve eigenproblem\n",
    "eigvals_ann, eigvecs_ann = linalg.eigh(C_ann)\n",
    "\n",
    "# Sort the eigensolutions in the descending order of eigenvalues\n",
    "order_ann = eigvals_ann.argsort()[::-1]\n",
    "eigvals_ann = eigvals_ann[order_ann]\n",
    "eigvecs_ann = eigvecs_ann[:, order_ann]"
   ]
  },
  {
   "cell_type": "markdown",
   "id": "8c91bedd",
   "metadata": {},
   "source": [
    "### Compute the reference active subspace\n",
    "\n",
    "Here we compute the reference active subspace, by using the derivative data from https://github.com/paulcon/as-data-sets/tree/master/HIV"
   ]
  },
  {
   "cell_type": "code",
   "execution_count": 8,
   "id": "c84d0ce3",
   "metadata": {},
   "outputs": [],
   "source": [
    "C_ref = 0.0\n",
    "for i in range(derivatives.shape[0]):\n",
    "    C_ref += np.dot(derivatives[i].reshape([-1,1]), derivatives[i].reshape([1, -1])) / n_mc\n",
    "eigvals_ref, eigvecs_ref = linalg.eigh(C_ref)\n",
    "\n",
    "# Sort the eigensolutions in the descending order of eigenvalues\n",
    "order_ref = eigvals_ref.argsort()[::-1]\n",
    "eigvals_ref = eigvals_ref[order_ref]\n",
    "eigvecs_ref = eigvecs_ref[:, order_ref]"
   ]
  },
  {
   "cell_type": "markdown",
   "id": "f989fd2d",
   "metadata": {},
   "source": [
    "### Select $d$\n",
    "\n",
    "We we select $d=1$, i.e. we are constructing a 1D active subspace."
   ]
  },
  {
   "cell_type": "code",
   "execution_count": 9,
   "id": "c8d0f5d3",
   "metadata": {},
   "outputs": [],
   "source": [
    "########################################\n",
    "# choose the active subspace dimension #\n",
    "########################################\n",
    "d = 1\n",
    "\n",
    "# the first d eigenvectors for the reference and ANN case\n",
    "W1_ann = eigvecs_ann[:, 0:d]\n",
    "W1_ref = eigvecs_ref[:, 0:d]\n",
    "\n",
    "# y is the active subspace coordinate\n",
    "y_ref = np.dot(W1_ref.T, params.T).T\n",
    "y_ann = np.dot(W1_ann.T, params.T).T"
   ]
  },
  {
   "cell_type": "markdown",
   "id": "16ec16e8",
   "metadata": {},
   "source": [
    "### Train a deep active subspace network\n",
    "\n",
    "Below we train a deep active subspace network, using $d=1$ in the DAS layer."
   ]
  },
  {
   "cell_type": "code",
   "execution_count": 10,
   "id": "3a82b6f7",
   "metadata": {},
   "outputs": [
    {
     "name": "stdout",
     "output_type": "stream",
     "text": [
      "Creating DAS_Surrogate Object\n",
      "Creating Feature Engineering object\n",
      "Using  900/1000 samples to train the ML model\n",
      "done preparing data\n",
      "===============================\n",
      "Neural net parameters\n",
      "===============================\n",
      "Number of layers = 4\n",
      "Number of features = 27\n",
      "Loss function = squared\n",
      "Number of neurons per hidden layer = 100\n",
      "Number of output neurons = 1\n",
      "Activation hidden layers = tanh\n",
      "Activation output layer = linear\n",
      "This neural network has 10428 weights.\n",
      "===============================\n",
      "===============================\n",
      "Training Deep Active Subspace Neural Network...\n",
      "Batch 0 learning rate 0.001 loss: 1.328270173119388\n",
      "Batch 1000 learning rate 0.001 loss: 0.000670940171281517\n",
      "Batch 2000 learning rate 0.001 loss: 0.0006493683211280454\n",
      "Batch 3000 learning rate 0.001 loss: 0.0003979900507197934\n",
      "Batch 4000 learning rate 0.001 loss: 0.0015748308819076413\n",
      "Batch 5000 learning rate 0.001 loss: 0.0006899764684592707\n",
      "Batch 6000 learning rate 0.001 loss: 0.00029045304508743745\n",
      "Batch 7000 learning rate 0.001 loss: 0.000759750223183937\n",
      "Batch 8000 learning rate 0.001 loss: 0.0006908695444013748\n",
      "Batch 9000 learning rate 0.001 loss: 0.0004189022105827193\n"
     ]
    }
   ],
   "source": [
    "#####################\n",
    "# train DAS network #\n",
    "#####################\n",
    "\n",
    "das_surrogate = es.methods.DAS_Surrogate()\n",
    "das_surrogate.train(params, samples, d, n_iter=10000, n_layers=4, n_neurons=100, test_frac = 0.1, \n",
    "                batch_size = 64, standardize_X=False, standardize_y=True)"
   ]
  },
  {
   "cell_type": "markdown",
   "id": "04216ff6",
   "metadata": {},
   "source": [
    "### \"Internal consistency\" DAS network\n",
    "\n",
    "In theorem 5.2, we proved that the DAS network is \"internally consistent\" with the original active subspace method, in the sense that $\\mathrm{span}(V_1) = \\mathrm{span}(W_1)$. Here, $W_1$ is the DAS projection matrix, and $V_1$ is the projection matrix formed by the $d$ dominant eigenvectors of \n",
    "\n",
    "\\begin{align}\n",
    " C_{DAS} = \\int \\left(\\frac{\\partial \\widetilde{f}}{\\partial {\\bf x}}\\right)\\left(\\frac{\\partial \\widetilde{f}}{\\partial {\\bf x}}\\right)^T p({\\bf x})d{\\bf x} =  \n",
    " \\int W_1 \\left(\\frac{\\partial \\widetilde{f}}{\\partial {\\bf y}}\\right)\\left(\\frac{\\partial \\widetilde{f}}{\\partial {\\bf y}}\\right)^TW_1^T p(\\bf x)d{\\bf x}\n",
    "=\\\\\n",
    "[V_1\\;\\; V_2]\\left[\n",
    "\\begin{matrix}\n",
    "\\Lambda_1 & 0 \\\\\n",
    "0 & \\Lambda_2\n",
    "\\end{matrix} \n",
    " \\right][V_1\\;\\; V_2]^T = W_1\\overline{C}_1W_1^T\n",
    "\\end{align}\n",
    "\n",
    "See the article for details. Our purpose here is to numerically check the validity of $\\mathrm{span}(V_1) = \\mathrm{span}(W_1)$, using the `scipy.linalg.subspace_angles` method, which should yield a zero angle between $V_1$ and $W_1$."
   ]
  },
  {
   "cell_type": "code",
   "execution_count": 12,
   "id": "1d8461b0",
   "metadata": {},
   "outputs": [
    {
     "name": "stdout",
     "output_type": "stream",
     "text": [
      "The subspace angles between V1 and W1 are [5.83347531e-16]\n"
     ]
    }
   ],
   "source": [
    "# the gradient matrix computed of the DAS network, computed using the classical AS method\n",
    "C_das = 0.0\n",
    "# the MC approximation of C_1 = (df/dh)(df/dh)^T\n",
    "C_1 = 0.0\n",
    "\n",
    "# Compute C1 and C_das\n",
    "das_samples = np.zeros(n_mc)\n",
    "for i, param in enumerate(params):\n",
    "    # compute the derivative of f at the input layer (needed for C_das)\n",
    "    df_dx = das_surrogate.derivative(param, norm=False)\n",
    "    # store predictions for later\n",
    "    das_samples[i] = das_surrogate.predict(param)\n",
    "    # derivative of f in the DAS layer (needed for C_1)\n",
    "    df_dh = das_surrogate.neural_net.layers[1].delta_hy.reshape([-1,1])\n",
    "    # update C_1 and C_das\n",
    "    C_1 += np.dot(df_dh, df_dh.T) / n_mc\n",
    "    C_das += np.dot(df_dx, df_dx.T) / n_mc\n",
    "\n",
    "# solve eigenvalue problem for C_das\n",
    "eigvals_C_das, V = linalg.eigh(C_das)\n",
    "\n",
    "# Sort the eigensolutions in the descending order of eigenvalues\n",
    "order = eigvals_C_das.argsort()[::-1]\n",
    "eigvals_C_das = eigvals_C_das[order]\n",
    "V = V[:, order]\n",
    "V_1 = V[:, 0:d]\n",
    "\n",
    "# the DAS weight matrix of the first hidden layer\n",
    "W_1 = das_surrogate.neural_net.layers[1].W\n",
    "\n",
    "print(\"The subspace angles between V1 and W1 are %s\" % linalg.subspace_angles(V_1, W_1))\n",
    "\n",
    "y_das = np.dot(W_1.T, params.T).T\n",
    "\n",
    "# compute eigenvalues / vectors of C_1 and sort\n",
    "eigvals_C_1, eigvecs_C_1 = linalg.eigh(C_1)\n",
    "order = eigvals_C_1.argsort()[::-1]\n",
    "eigvals_C_1 = eigvals_C_1[order]\n",
    "eigvecs_C_1 = eigvecs_C_1[:, order]"
   ]
  },
  {
   "cell_type": "markdown",
   "id": "ee0084d4",
   "metadata": {},
   "source": [
    "### Recreate the eigenvalue plots"
   ]
  },
  {
   "cell_type": "code",
   "execution_count": 13,
   "id": "e1a94d13",
   "metadata": {},
   "outputs": [
    {
     "name": "stderr",
     "output_type": "stream",
     "text": [
      "findfont: Font family ['cmsy10'] not found. Falling back to DejaVu Sans.\n",
      "findfont: Font family ['cmr10'] not found. Falling back to DejaVu Sans.\n",
      "findfont: Font family ['cmtt10'] not found. Falling back to DejaVu Sans.\n",
      "findfont: Font family ['cmmi10'] not found. Falling back to DejaVu Sans.\n",
      "findfont: Font family ['cmb10'] not found. Falling back to DejaVu Sans.\n",
      "findfont: Font family ['cmss10'] not found. Falling back to DejaVu Sans.\n",
      "findfont: Font family ['cmex10'] not found. Falling back to DejaVu Sans.\n",
      "findfont: Font family ['DejaVu Sans Display'] not found. Falling back to DejaVu Sans.\n"
     ]
    },
    {
     "data": {
      "image/png": "[encoded data removed]",
      "text/plain": [
       "<Figure size 576x288 with 2 Axes>"
      ]
     },
     "metadata": {
      "needs_background": "light"
     },
     "output_type": "display_data"
    }
   ],
   "source": [
    "####################\n",
    "# plot eigenvalues #\n",
    "####################\n",
    "\n",
    "fig = plt.figure(figsize=[8, 4])\n",
    "ax = fig.add_subplot(121, yscale='log', title='reference eigenvalues')\n",
    "ax.set_ylabel(r'$\\lambda_i$', fontsize=12)\n",
    "ax.set_xlabel(r'$i$', fontsize=12)\n",
    "ax.plot(range(1, D + 1), eigvals_ref, 's', color='dodgerblue',  markersize=3,)\n",
    "ax.set_xticks(np.arange(1, D + 1, 2))\n",
    "#\n",
    "ax2 = fig.add_subplot(122, title=r'DAS eigenvalues, $d=%d$' % d)\n",
    "ax2.set_ylabel(r'$\\lambda_i$', fontsize=12)\n",
    "ax2.set_xlabel(r'$i$', fontsize=12)\n",
    "ax2.plot(range(1, d + 1), eigvals_C_1, 'o', color='salmon', markersize=8, \n",
    "         label = '%s of %s' % (r'$\\lambda_i$', r'$\\overline{C}_1$'))\n",
    "ax2.plot(range(1, D + 1), eigvals_C_das, 's', color='dodgerblue', markersize=3,\n",
    "         label='%s of %s' % (r'$\\lambda_i$', r'$\\overline{C}_{DAS}$'))\n",
    "ax2.set_xticks(np.arange(1, D + 1, 2))\n",
    "sns.despine(top=True)\n",
    "plt.legend(loc=0, frameon=False)\n",
    "plt.tight_layout()"
   ]
  },
  {
   "cell_type": "markdown",
   "id": "09d58e88",
   "metadata": {},
   "source": [
    "### Recreate the active subspace plot"
   ]
  },
  {
   "cell_type": "code",
   "execution_count": 14,
   "id": "fa9440bc",
   "metadata": {},
   "outputs": [
    {
     "data": {
      "image/png": "[encoded data removed]",
      "text/plain": [
       "<Figure size 288x288 with 1 Axes>"
      ]
     },
     "metadata": {
      "needs_background": "light"
     },
     "output_type": "display_data"
    }
   ],
   "source": [
    "#########################\n",
    "# plot active subspaces #\n",
    "#########################\n",
    "\n",
    "# Generate new code validation samples in the deep active subspace\n",
    "from HIV_model import *\n",
    "n_val = 100\n",
    "x_val = np.random.rand(n_val, D) * 2 - 1\n",
    "val_samples = Tcells(x_val, np.linspace(1, times[I], times[I]))[:, -1]\n",
    "y_val = np.dot(W_1.T, x_val.T).T\n",
    "\n",
    "# plot DAS surrogate in y coordinate\n",
    "fig = plt.figure(figsize=[4, 4])\n",
    "ax = fig.add_subplot(111)\n",
    "ax.set_xlabel(r'$y_1$', fontsize=12)\n",
    "ax.set_ylabel(r'$\\widetilde{G}\\left(y_1\\right)$', fontsize=12)\n",
    "ax.plot(y_val, val_samples, 's', color='dodgerblue', label='validation samples') \n",
    "ax.plot(y_das, das_samples, '+', color='salmon', label='DAS', alpha=0.5)\n",
    "leg = ax.legend(loc=0, frameon=False)\n",
    "leg.set_draggable(True)\n",
    "sns.despine(top=True)\n",
    "plt.tight_layout()"
   ]
  },
  {
   "cell_type": "markdown",
   "id": "4380377a",
   "metadata": {},
   "source": [
    "### Recreate the C heat maps"
   ]
  },
  {
   "cell_type": "code",
   "execution_count": 15,
   "id": "3a0bb2e4",
   "metadata": {},
   "outputs": [
    {
     "data": {
      "image/png": "[encoded data removed]",
      "text/plain": [
       "<Figure size 864x288 with 6 Axes>"
      ]
     },
     "metadata": {
      "needs_background": "light"
     },
     "output_type": "display_data"
    }
   ],
   "source": [
    "#####################################\n",
    "# plot a heat map of the C matrices #\n",
    "#####################################\n",
    "\n",
    "fig = plt.figure(figsize=[12,4])\n",
    "ax1 = fig.add_subplot(131, title=r'$\\overline{C}_{REF}$', xlabel='$i$', ylabel='$j$')\n",
    "im = ax1.imshow(C_ref)\n",
    "plt.colorbar(im)\n",
    "ax2 = fig.add_subplot(132, title=r'$\\overline{C}_{ANN}$', xlabel='$i$', ylabel='$j$')\n",
    "im = ax2.imshow(C_ann)\n",
    "plt.colorbar(im)\n",
    "ax3 = fig.add_subplot(133, title=r'$\\overline{C}_{DAS},\\; d=%d$' % d, xlabel='$i$', ylabel='$j$')\n",
    "im = ax3.imshow(C_das)\n",
    "plt.colorbar(im)\n",
    "plt.tight_layout()"
   ]
  },
  {
   "cell_type": "markdown",
   "id": "a261e980",
   "metadata": {},
   "source": [
    "### Recreate the global derivative based sensitivity plots"
   ]
  },
  {
   "cell_type": "code",
   "execution_count": 17,
   "id": "8b75f166",
   "metadata": {},
   "outputs": [],
   "source": [
    "def sensitivity(idx, V_i, **kwargs):\n",
    "    # Parameter names\n",
    "    param_names = np.array([r'$s_1$', r'$s_2$', r'$s_3$', r'$p_1$', r'$C_1$', r'$K_1$', r'$K_2$', r'$K_3$',\n",
    "                   r'$K_4$', r'$K_5$', r'$K_6$', r'$K_7$', r'$K_8$', r'$K_9$', r'$K_{10}$',\n",
    "                   r'$K_{11}$', r'$K_{12}$', r'$K_{13}$', r'$\\delta_1$', r'$\\delta_2$',\n",
    "                   r'$\\delta_3$', r'$\\delta_4$', r'$\\delta_5$', r'$\\delta_6$', r'$\\delta_7$', r'$\\alpha_1$',\n",
    "                   r'$\\psi$'])\n",
    "    \n",
    "    fig = plt.figure(figsize=[4, 8])\n",
    "    ax = fig.add_subplot(111, title=kwargs.get('title', ''))\n",
    "    # ax.set_ylabel(r'$\\int\\left(\\frac{\\partial f}{\\partial x_i}\\right)^2 p({\\bf x})d{\\bf x}$', fontsize=14)\n",
    "    ax.set_xlabel(r'$\\nu_i$', fontsize=14)    \n",
    "    ax.barh(range(V_i.size), width = V_i[idx].flatten(), color = 'dodgerblue')\n",
    "    ax.set_yticks(range(V_i.size))\n",
    "    ax.set_yticklabels(param_names[idx[0]], fontsize=14)\n",
    "    # plt.xticks(rotation=90)\n",
    "    ax.invert_yaxis()\n",
    "    sns.despine(top=True)\n",
    "    plt.tight_layout()"
   ]
  },
  {
   "cell_type": "code",
   "execution_count": 18,
   "id": "60bff6d5",
   "metadata": {},
   "outputs": [
    {
     "name": "stdout",
     "output_type": "stream",
     "text": [
      "Creating DAS_analysis object\n",
      "Creating ANN_analysis object\n",
      "[ 0.01459843 -0.00788863 -0.03701837 -0.01337764 -0.02782644  0.0264299\n",
      "  0.01299686 -0.01248487 -0.0005602   0.02968478 -0.01241041 -0.00324068\n",
      "  0.00076574 -0.01593965  0.00965141 -0.0052904   0.01762609 -0.02341303\n",
      " -0.01204422 -0.03437637  0.02309029 -0.00039083  0.00212377 -0.00610452\n",
      "  0.028341    0.01615835 -0.00536695]\n",
      "Parameters ordered from most to least important:\n",
      "[[ 5 24 13 26  7 19  0  3 11  4 23  2 18 14  9 22  1 17 21  8 25 20 15 16\n",
      "   6 12 10]]\n",
      "Parameters ordered from most to least important:\n",
      "[[ 5 24 13 26  7 19  0  3 11  4 23  2 18 14  9 15  8 25 22  1 21 20 17 12\n",
      "  10  6 16]]\n",
      "Parameters ordered according to the reference activity score\n",
      "[[ 5 24 13 26 19  7  0  3 11  4 23  2 18 14  9  8  1 21 22 15 16 10 17 20\n",
      "  25  6 12]]\n"
     ]
    },
    {
     "data": {
      "image/png": "[encoded data removed]",
      "text/plain": [
       "<Figure size 288x576 with 1 Axes>"
      ]
     },
     "metadata": {
      "needs_background": "light"
     },
     "output_type": "display_data"
    },
    {
     "data": {
      "image/png": "[encoded data removed]",
      "text/plain": [
       "<Figure size 288x576 with 1 Axes>"
      ]
     },
     "metadata": {
      "needs_background": "light"
     },
     "output_type": "display_data"
    },
    {
     "data": {
      "image/png": "[encoded data removed]",
      "text/plain": [
       "<Figure size 288x576 with 1 Axes>"
      ]
     },
     "metadata": {
      "needs_background": "light"
     },
     "output_type": "display_data"
    }
   ],
   "source": [
    "#####################################\n",
    "# global gradient-based sensitivity #\n",
    "#####################################\n",
    "\n",
    "das_analysis = es.analysis.DAS_analysis(das_surrogate)\n",
    "ann_analysis = es.analysis.ANN_analysis(ann_surrogate)\n",
    "\n",
    "idx, V_i = das_analysis.sensitivity_measures(params, norm=False)\n",
    "sensitivity(idx, V_i, title = 'DAS')\n",
    "\n",
    "idx, V_i = ann_analysis.sensitivity_measures(params, norm=False)\n",
    "sensitivity(idx, V_i, title = 'ANN')\n",
    "\n",
    "print('Parameters ordered according to the reference activity score')\n",
    "V_i_ref = np.diag(C_ref)\n",
    "idx_ref = np.flipud(np.argsort(np.diag(C_ref))).reshape([1, -1])\n",
    "print(idx_ref)\n",
    "sensitivity(idx_ref, V_i_ref, title='reference')"
   ]
  },
  {
   "cell_type": "code",
   "execution_count": null,
   "id": "48980880",
   "metadata": {},
   "outputs": [],
   "source": []
  }
 ],
 "metadata": {
  "kernelspec": {
   "display_name": "Python 3 (ipykernel)",
   "language": "python",
   "name": "python3"
  },
  "language_info": {
   "codemirror_mode": {
    "name": "ipython",
    "version": 3
   },
   "file_extension": ".py",
   "mimetype": "text/x-python",
   "name": "python",
   "nbconvert_exporter": "python",
   "pygments_lexer": "ipython3",
   "version": "3.7.7"
  }
 },
 "nbformat": 4,
 "nbformat_minor": 5
}
