{
 "cells": [
  {
   "cell_type": "markdown",
   "id": "905ed8f7",
   "metadata": {},
   "source": [
    "# Replication of results for the HIV model - scalar QoI\n",
    "\n",
    "This is a notebook to recreate the results of Section 8 of\n",
    "\n",
    "W.N. Edeling, \"On the deep active subspace method\", SIAM/ASA Journal on Uncertainty Quantification, 2022.\n",
    "\n",
    "Here we will apply the deep active subspace method [1] to an HIV model consisting of 7 coupled ordinary differential equations [2], with 27 uncertain input parameters, see the article above for more information.\n",
    "\n",
    "This notebook contains the results for the scalar QoI case. For the vector-valued QoI, see `HIV_vector.ipynb`.\n",
    "\n",
    "### Requirements\n",
    "\n",
    "The Deep Active Subspace method is implemented in [EasySurrogate](https://github.com/wedeling/EasySurrogate). To install, simply uncomment the `!pip install` line below. Furthermore, `scipy`, `seaborn` and `pandas` are also required.\n",
    "\n",
    "[1] Tripathy, R., & Bilionis, I. (2019, August). Deep active subspaces: A scalable method for high-dimensional uncertainty propagation. In International Design Engineering Technical Conferences and Computers and Information in Engineering Conference (Vol. 59179, p. V001T02A074). American Society of Mechanical Engineers.\n",
    "\n",
    "[2] Loudon, T., & Pankavich, S. (2017). Mathematical analysis and dynamic active subspaces for a long term model of HIV. Mathematical Biosciences and Engineering, 14(3), 709-733.\n",
    "\n",
    "[3] Constantine, P. G. (2014). A quick-and-dirty check for a one-dimensional active subspace. arXiv preprint arXiv:1402.3838."
   ]
  },
  {
   "cell_type": "code",
   "execution_count": 1,
   "id": "21d79ecb",
   "metadata": {},
   "outputs": [],
   "source": [
    "#!pip install easysurrogate==0.18"
   ]
  },
  {
   "cell_type": "code",
   "execution_count": 2,
   "id": "2defd753",
   "metadata": {},
   "outputs": [],
   "source": [
    "import numpy as np\n",
    "import matplotlib.pyplot as plt\n",
    "import easysurrogate as es\n",
    "from scipy import linalg\n",
    "import pandas as pd\n",
    "import seaborn as sns"
   ]
  },
  {
   "cell_type": "code",
   "execution_count": 3,
   "id": "e947a0de",
   "metadata": {},
   "outputs": [],
   "source": [
    "# select the seismic color scheme\n",
    "plt.rcParams['image.cmap'] = 'seismic'"
   ]
  },
  {
   "cell_type": "markdown",
   "id": "726ca982",
   "metadata": {},
   "source": [
    "### EasySurrogate campaign\n",
    "\n",
    "EasySurrogate's basic object is called a `campaign', which handles the data. "
   ]
  },
  {
   "cell_type": "code",
   "execution_count": 4,
   "id": "945e9f60",
   "metadata": {},
   "outputs": [],
   "source": [
    "# Create EasySurrogate campaign\n",
    "campaign = es.Campaign()"
   ]
  },
  {
   "cell_type": "markdown",
   "id": "41de8c9a",
   "metadata": {},
   "source": [
    "### Load training data\n",
    "\n",
    "Here we use the campaign to load the training data, which is precomputed and stored in the `my_samples.hdf5` file. We also load the model gradients from https://github.com/paulcon/as-data-sets/tree/master/HIV to compute the reference (original) active subspace."
   ]
  },
  {
   "cell_type": "code",
   "execution_count": 5,
   "id": "089a0781",
   "metadata": {},
   "outputs": [
    {
     "name": "stdout",
     "output_type": "stream",
     "text": [
      "Loaded inputs\n",
      "Loaded outputs\n"
     ]
    }
   ],
   "source": [
    "##########################\n",
    "# Generate training data #\n",
    "##########################\n",
    "\n",
    "# number of inputs\n",
    "D = 27\n",
    "\n",
    "# the times (in days) at which the HIV model was sampled\n",
    "times = np.array([5, 15, 24, 38, 40, 45, 50, 55, 65, 90, 140, 500, 750,\n",
    "                  1000, 1600, 1800, 2000, 2200, 2400, 2800, 3400])\n",
    "T = times.size\n",
    "\n",
    "# Use derivative data from https://github.com/paulcon/as-data-sets/tree/master/HIV\n",
    "derivatives = pd.read_csv('./gradients.csv').values[:, 1:]\n",
    "derivatives = derivatives.reshape([-1, T, D])\n",
    "\n",
    "# Load HDF5  training data using the Campaign\n",
    "data = campaign.load_hdf5_data(file_path='my_samples.hdf5')\n",
    "# input parameters in [-1, 1]\n",
    "params = data['inputs']\n",
    "# output (T-cell counts at times)\n",
    "samples = data['outputs']\n",
    "\n",
    "# time index at which to construct an active subspace\n",
    "I = -1\n",
    "samples = samples[:, I].reshape([-1, 1])\n",
    "derivatives = derivatives[:, I, :]\n",
    "# scale the derivatives for consistency with the standardized ANN and DAS results\n",
    "derivatives /= np.std(samples)"
   ]
  },
  {
   "cell_type": "markdown",
   "id": "b12d97ec",
   "metadata": {},
   "source": [
    "### Select $d$\n",
    "\n",
    "We we select $d=1$, i.e. we are constructing a 1D active subspace."
   ]
  },
  {
   "cell_type": "code",
   "execution_count": 6,
   "id": "bd53717c",
   "metadata": {},
   "outputs": [],
   "source": [
    "########################################\n",
    "# choose the active subspace dimension #\n",
    "########################################\n",
    "d = 1"
   ]
  },
  {
   "cell_type": "markdown",
   "id": "e9ab9a83",
   "metadata": {},
   "source": [
    "### Train a (unconstrained) artificial neural network\n",
    "\n",
    "We train a standard artificial neural network. The inputs are already normalized to lie within $[-1, 1]$, and we standardize the output."
   ]
  },
  {
   "cell_type": "code",
   "execution_count": 7,
   "id": "8600d256",
   "metadata": {},
   "outputs": [
    {
     "name": "stdout",
     "output_type": "stream",
     "text": [
      "Creating ANN_Surrogate Object\n",
      "Creating Feature Engineering object\n",
      "Using  900/1000 samples to train the ML model\n",
      "done preparing data\n",
      "===============================\n",
      "Neural net parameters\n",
      "===============================\n",
      "Number of layers = 4\n",
      "Number of features = 27\n",
      "Loss function = squared\n",
      "Number of neurons per hidden layer = 100\n",
      "Number of output neurons = 1\n",
      "Activation = ['linear', 'tanh', 'tanh', 'tanh', 'linear']\n",
      "This neural network has 23101 weights.\n",
      "===============================\n",
      "===============================\n",
      "Training Artificial Neural Network...\n",
      "Batch 0 learning rate 0.001 loss: 1.3369322256353062\n",
      "Batch 1000 learning rate 0.001 loss: 0.0004615564311320874\n",
      "Batch 2000 learning rate 0.001 loss: 6.705210912347266e-05\n",
      "Batch 3000 learning rate 0.001 loss: 0.0010006809738640843\n",
      "Batch 4000 learning rate 0.001 loss: 6.235352477269046e-05\n",
      "Batch 5000 learning rate 0.001 loss: 0.00011817674278648946\n",
      "Batch 6000 learning rate 0.001 loss: 8.852322330578617e-05\n",
      "Batch 7000 learning rate 0.001 loss: 6.376321318811768e-05\n",
      "Batch 8000 learning rate 0.001 loss: 4.334388845747609e-05\n",
      "Batch 9000 learning rate 0.001 loss: 6.547994395221101e-05\n"
     ]
    }
   ],
   "source": [
    "ann_uc_surrogate = es.methods.ANN_Surrogate()\n",
    "# train vanilla ANN. The input parameters are already scaled to [-1, 1], so no need to\n",
    "# standardize these\n",
    "ann_uc_surrogate.train(params, samples, \n",
    "                n_iter=10000, n_layers=4, n_neurons=100, test_frac = 0.1, \n",
    "                batch_size = 64, standardize_X=False, standardize_y=True)"
   ]
  },
  {
   "cell_type": "markdown",
   "id": "ccbbd6b1",
   "metadata": {},
   "source": [
    "### Compute the original active subspace of the unconstrained ANN"
   ]
  },
  {
   "cell_type": "code",
   "execution_count": 8,
   "id": "b5d6dbb2",
   "metadata": {},
   "outputs": [],
   "source": [
    "# Number of Monte Carlo samples\n",
    "n_mc = params.shape[0]\n",
    "\n",
    "# gradient matrix for the ANN\n",
    "C_ann_uc = 0.0\n",
    "\n",
    "ann_uc_samples = np.zeros(n_mc)\n",
    "# compute the derivative of the neural net output for every input\n",
    "for i, param in enumerate(params):\n",
    "    # construct the C matrix\n",
    "    df_dx = ann_uc_surrogate.derivative(param, norm=False)\n",
    "    C_ann_uc += np.dot(df_dx, df_dx.T) / n_mc\n",
    "    # store predictions for later\n",
    "    ann_uc_samples[i] = ann_uc_surrogate.predict(param)\n",
    "\n",
    "# Solve eigenproblem\n",
    "eigvals_C_ann_uc, eigvecs_C_ann_uc = linalg.eigh(C_ann_uc)\n",
    "\n",
    "# Sort the eigensolutions in the descending order of eigenvalues\n",
    "order_ann_uc = eigvals_C_ann_uc.argsort()[::-1]\n",
    "eigvals_C_ann_uc = eigvals_C_ann_uc[order_ann_uc]\n",
    "eigvecs_C_ann_uc = eigvecs_C_ann_uc[:, order_ann_uc]\n",
    "\n",
    "R_1 = eigvecs_C_ann_uc[:, 0:d]\n",
    "y_ann_uc = np.dot(R_1.T, params.T).T"
   ]
  },
  {
   "cell_type": "markdown",
   "id": "e3967b8d",
   "metadata": {},
   "source": [
    "### Train a (constrained) artificial neural network\n",
    "\n",
    "We train a constrained artificial neural network without enforced orthonormality, but with $d$ neurons in the first hidden layer. The inputs are already normalized to lie within $[-1, 1]$, and we standardize the output."
   ]
  },
  {
   "cell_type": "code",
   "execution_count": 9,
   "id": "21cc5b1b",
   "metadata": {},
   "outputs": [
    {
     "name": "stdout",
     "output_type": "stream",
     "text": [
      "Creating ANN_Surrogate Object\n",
      "Creating Feature Engineering object\n",
      "Using  900/1000 samples to train the ML model\n",
      "done preparing data\n",
      "===============================\n",
      "Neural net parameters\n",
      "===============================\n",
      "Number of layers = 4\n",
      "Number of features = 27\n",
      "Loss function = squared\n",
      "Number of neurons per hidden layer = [1, 100, 100]\n",
      "Number of output neurons = 1\n",
      "Activation = ['linear', 'tanh', 'tanh', 'tanh', 'linear']\n",
      "This neural network has 10428 weights.\n",
      "===============================\n",
      "===============================\n",
      "Training Artificial Neural Network...\n",
      "Batch 0 learning rate 0.001 loss: 1.1343715963232734\n",
      "Batch 1000 learning rate 0.001 loss: 0.005055051609122707\n",
      "Batch 2000 learning rate 0.001 loss: 0.005176444482285056\n",
      "Batch 3000 learning rate 0.001 loss: 0.0032594387878744904\n",
      "Batch 4000 learning rate 0.001 loss: 0.0038303190371348915\n",
      "Batch 5000 learning rate 0.001 loss: 0.004827321679976069\n",
      "Batch 6000 learning rate 0.001 loss: 0.00558456845077363\n",
      "Batch 7000 learning rate 0.001 loss: 0.006037355434474303\n",
      "Batch 8000 learning rate 0.001 loss: 0.010672615535116609\n",
      "Batch 9000 learning rate 0.001 loss: 0.003891392621655273\n"
     ]
    }
   ],
   "source": [
    "##########################\n",
    "# Train an ANN surrogate #\n",
    "##########################\n",
    "\n",
    "ann_surrogate = es.methods.ANN_Surrogate()\n",
    "# train constrained ANN\n",
    "ann_surrogate.train(params, samples, \n",
    "                n_iter=10000, n_layers=4, \n",
    "                # use just d neurons in the first hidden layer\n",
    "                n_neurons=[d, 100, 100], test_frac = 0.1, \n",
    "                # turn of bias in the first layer (optional, brings it closer to the DAS network)\n",
    "                bias=[False, True, True, True],\n",
    "                batch_size = 64, standardize_X=False, standardize_y=True)\n"
   ]
  },
  {
   "cell_type": "markdown",
   "id": "df0201cb",
   "metadata": {},
   "source": [
    "### Quick-and-dirty check for a 1D active subspace using linear regression\n",
    "\n",
    "Compute the coefficients of the linear-regression model\n",
    "\n",
    "\\begin{align}\n",
    "f({\\bf x})\\approx\\widetilde{f}({\\bf x}) = a_0 + a_1 x_1 + a_2 x_2 + \\cdots + a_D x_D,\n",
    "\\end{align}\n",
    "\n",
    "via ${\\bf a} = (X^TX)^{-1}X^T{\\bf f}$. Then $[a_1, \\cdots, a_D]^T/\\lVert [a_1, \\cdots, a_D] \\rVert_2$ is an approximiation to a 1D active subspace, if present in $f$. See ref [3] for more info."
   ]
  },
  {
   "cell_type": "code",
   "execution_count": 10,
   "id": "6ffea3e6",
   "metadata": {},
   "outputs": [],
   "source": [
    "# regression features X\n",
    "X_hat = np.ones([samples.size, D + 1])\n",
    "X_hat[:,1:] = params\n",
    "# (X^TX)^{-1}\n",
    "XTX_inv = np.linalg.inv(np.dot(X_hat.T, X_hat))\n",
    "# X^Tf\n",
    "XTf = np.dot(X_hat.T, samples)\n",
    "# least-square coefficients\n",
    "a_hat = np.dot(XTX_inv, XTf)\n",
    "# linear-regression approximation of the 1D active subspace\n",
    "w1_dirty = a_hat[1:] / np.linalg.norm(a_hat[1:])"
   ]
  },
  {
   "cell_type": "markdown",
   "id": "be02b71a",
   "metadata": {},
   "source": [
    "### Compute the original active subspace of the constrained ANN"
   ]
  },
  {
   "cell_type": "code",
   "execution_count": 11,
   "id": "9e90fd89",
   "metadata": {},
   "outputs": [],
   "source": [
    "# the (non-orthonormal) weight matrix of the ANN\n",
    "M_1 = ann_surrogate.neural_net.layers[1].W\n",
    "\n",
    "# gradient matrix for the ANN\n",
    "C_ann = 0.0\n",
    "\n",
    "ann_samples = np.zeros(n_mc)\n",
    "# compute the derivative of the neural net output for every input\n",
    "for i, param in enumerate(params):\n",
    "    # construct the C matrix\n",
    "    df_dx = ann_surrogate.derivative(param, norm=False)\n",
    "    C_ann += np.dot(df_dx, df_dx.T) / n_mc\n",
    "    # store predictions for later\n",
    "    ann_samples[i] = ann_surrogate.predict(param)\n",
    "\n",
    "# Solve eigenproblem\n",
    "eigvals_C_ann, eigvecs_C_ann = linalg.eigh(C_ann)\n",
    "\n",
    "# Sort the eigensolutions in the descending order of eigenvalues\n",
    "order_ann = eigvals_C_ann.argsort()[::-1]\n",
    "eigvals_C_ann = eigvals_C_ann[order_ann]\n",
    "eigvecs_C_ann = eigvecs_C_ann[:, order_ann]\n",
    "\n",
    "# orthoormal projection matrix extracted from (constrained) ANN\n",
    "V_1 = eigvecs_C_ann[:, 0:d]\n",
    "y_ann = np.dot(V_1.T, params.T).T"
   ]
  },
  {
   "cell_type": "markdown",
   "id": "b37f5503",
   "metadata": {},
   "source": [
    "### Compute the reference active subspace\n",
    "\n",
    "Here we compute the reference active subspace, by using the derivative data from https://github.com/paulcon/as-data-sets/tree/master/HIV"
   ]
  },
  {
   "cell_type": "code",
   "execution_count": 12,
   "id": "b3dda1ab",
   "metadata": {},
   "outputs": [],
   "source": [
    "C_ref = 0.0\n",
    "for i in range(derivatives.shape[0]):\n",
    "    C_ref += np.dot(derivatives[i].reshape([-1,1]), derivatives[i].reshape([1, -1])) / n_mc\n",
    "eigvals_ref, eigvecs_ref = linalg.eigh(C_ref)\n",
    "\n",
    "# Sort the eigensolutions in the descending order of eigenvalues\n",
    "order_ref = eigvals_ref.argsort()[::-1]\n",
    "eigvals_ref = eigvals_ref[order_ref]\n",
    "eigvecs_ref = eigvecs_ref[:, order_ref]"
   ]
  },
  {
   "cell_type": "markdown",
   "id": "4da730e5",
   "metadata": {},
   "source": [
    "### Train a deep active subspace network\n",
    "\n",
    "Below we train a deep active subspace network, using $d=1$ in the DAS layer."
   ]
  },
  {
   "cell_type": "code",
   "execution_count": 13,
   "id": "3a82b6f7",
   "metadata": {},
   "outputs": [
    {
     "name": "stdout",
     "output_type": "stream",
     "text": [
      "Creating DAS_Surrogate Object\n",
      "Creating Feature Engineering object\n",
      "Using  900/1000 samples to train the ML model\n",
      "done preparing data\n",
      "===============================\n",
      "Neural net parameters\n",
      "===============================\n",
      "Number of layers = 4\n",
      "Number of features = 27\n",
      "Loss function = squared\n",
      "Number of neurons per hidden layer = 100\n",
      "Number of output neurons = 1\n",
      "Activation = ['linear', 'tanh', 'tanh', 'tanh', 'linear']\n",
      "This neural network has 10428 weights.\n",
      "===============================\n",
      "===============================\n",
      "Training Deep Active Subspace Neural Network...\n",
      "Batch 0 learning rate 0.001 loss: 0.966841053046531\n",
      "Batch 1000 learning rate 0.001 loss: 0.004166904036146837\n",
      "Batch 2000 learning rate 0.001 loss: 0.006831899194204159\n",
      "Batch 3000 learning rate 0.001 loss: 0.003951256148489506\n",
      "Batch 4000 learning rate 0.001 loss: 0.017512692484491558\n",
      "Batch 5000 learning rate 0.001 loss: 0.004182807125238714\n",
      "Batch 6000 learning rate 0.001 loss: 0.0041257341512108275\n",
      "Batch 7000 learning rate 0.001 loss: 0.004732289877130372\n",
      "Batch 8000 learning rate 0.001 loss: 0.0042194088343330115\n",
      "Batch 9000 learning rate 0.001 loss: 0.005431557116695848\n"
     ]
    }
   ],
   "source": [
    "#####################\n",
    "# train DAS network #\n",
    "#####################\n",
    "\n",
    "das_surrogate = es.methods.DAS_Surrogate()\n",
    "das_surrogate.train(params, samples, d, n_iter=10000, n_layers=4, n_neurons=100, test_frac = 0.1, \n",
    "                batch_size = 64, standardize_X=False, standardize_y=True)"
   ]
  },
  {
   "cell_type": "markdown",
   "id": "d6156606",
   "metadata": {},
   "source": [
    "### Compute the original active subspace of the DAS network"
   ]
  },
  {
   "cell_type": "code",
   "execution_count": 14,
   "id": "1d8461b0",
   "metadata": {},
   "outputs": [
    {
     "name": "stdout",
     "output_type": "stream",
     "text": [
      "=====================\n",
      "Eigenvalues C_das:\n",
      " [ 8.61606531e+00  8.22711292e-16  7.08737855e-16  3.88203445e-16\n",
      "  2.06346857e-16  1.47741438e-16  7.58742443e-17  3.47768515e-17\n",
      "  2.21837984e-17  1.40745349e-17  8.66177410e-18  6.25207309e-18\n",
      "  5.74342788e-19  4.29209207e-19  2.31644864e-19  8.70873175e-20\n",
      " -1.69029252e-19 -4.65405834e-19 -5.35891925e-19 -1.50684427e-18\n",
      " -4.91372572e-18 -1.18768707e-17 -2.74451378e-17 -1.51497064e-16\n",
      " -1.81331931e-16 -2.36207052e-16 -6.93324853e-16]\n",
      "=====================\n",
      "Eigenvalues C_1:\n",
      " [8.61606531]\n",
      "=====================\n",
      "Difference eigenvectors:\n",
      " [[ 1.38777878e-17]\n",
      " [-5.55111512e-17]\n",
      " [ 0.00000000e+00]\n",
      " [-6.93889390e-18]\n",
      " [-3.46944695e-17]\n",
      " [ 3.46944695e-17]\n",
      " [-1.73472348e-18]\n",
      " [ 1.04083409e-17]\n",
      " [ 1.11022302e-16]\n",
      " [-2.22044605e-16]\n",
      " [-1.38777878e-17]\n",
      " [-2.77555756e-17]\n",
      " [-1.73472348e-18]\n",
      " [ 2.77555756e-17]\n",
      " [ 0.00000000e+00]\n",
      " [-8.67361738e-19]\n",
      " [ 8.67361738e-19]\n",
      " [ 1.73472348e-18]\n",
      " [ 6.93889390e-18]\n",
      " [ 8.67361738e-18]\n",
      " [ 0.00000000e+00]\n",
      " [-5.55111512e-17]\n",
      " [ 1.11022302e-16]\n",
      " [-1.11022302e-16]\n",
      " [ 5.55111512e-17]\n",
      " [-8.67361738e-19]\n",
      " [-1.38777878e-17]]\n",
      "=====================\n"
     ]
    }
   ],
   "source": [
    "# the gradient matrix computed of the DAS network, computed using the classical AS method\n",
    "C_das = 0.0\n",
    "# the MC approximation of C_1 = (df/dh)(df/dh)^T\n",
    "C_1 = 0.0\n",
    "\n",
    "# Compute C1 and C_das\n",
    "das_samples = np.zeros(n_mc)\n",
    "for i, param in enumerate(params):\n",
    "    # compute the derivative of f at the input layer (needed for C_das)\n",
    "    df_dx = das_surrogate.derivative(param, norm=False)\n",
    "    # store predictions for later\n",
    "    das_samples[i] = das_surrogate.predict(param)\n",
    "    # derivative of f in the DAS layer (needed for C_1)\n",
    "    df_dh = das_surrogate.neural_net.layers[1].delta_hy.reshape([-1,1])\n",
    "    # update C_1 and C_das\n",
    "    C_1 += np.dot(df_dh, df_dh.T) / n_mc\n",
    "    C_das += np.dot(df_dx, df_dx.T) / n_mc\n",
    "\n",
    "# solve eigenvalue problem for C_das\n",
    "eigvals_C_das, eigvecs_C_das = linalg.eigh(C_das)\n",
    "\n",
    "# Sort the eigensolutions in the descending order of eigenvalues\n",
    "order = eigvals_C_das.argsort()[::-1]\n",
    "eigvals_C_das = eigvals_C_das[order]\n",
    "eigvecs_C_das = eigvecs_C_das[:, order]\n",
    "\n",
    "# the DAS weight matrix of the first hidden layer\n",
    "W_1 = das_surrogate.neural_net.layers[1].W\n",
    "\n",
    "y_das = np.dot(W_1.T, params.T).T\n",
    "\n",
    "# Alternatively, in the DAS case we can solve only the eigendecomposition of C_1 to obtain the same result\n",
    "eigvals_C_1, eigvecs_C_1 = linalg.eigh(C_1)\n",
    "\n",
    "# Sort the eigensolutions in the descending order of eigenvalues\n",
    "order = eigvals_C_1.argsort()[::-1]\n",
    "eigvals_C_1 = eigvals_C_1[order]\n",
    "eigvecs_C_1 = eigvecs_C_1[:, order]\n",
    "\n",
    "print('=====================')\n",
    "print(\"Eigenvalues C_das:\\n %s\" % eigvals_C_das)\n",
    "print('=====================')\n",
    "print(\"Eigenvalues C_1:\\n %s\" % eigvals_C_1)\n",
    "print('=====================')\n",
    "print('Difference eigenvectors:\\n %s' % (eigvecs_C_das[:, 0:d] - np.dot(W_1, eigvecs_C_1)))\n",
    "print('=====================')"
   ]
  },
  {
   "cell_type": "markdown",
   "id": "ccd2d2b0",
   "metadata": {},
   "source": [
    "### Recreate the eigenvalue plots"
   ]
  },
  {
   "cell_type": "code",
   "execution_count": 15,
   "id": "e1a94d13",
   "metadata": {},
   "outputs": [
    {
     "name": "stderr",
     "output_type": "stream",
     "text": [
      "findfont: Font family ['cmsy10'] not found. Falling back to DejaVu Sans.\n",
      "findfont: Font family ['cmr10'] not found. Falling back to DejaVu Sans.\n",
      "findfont: Font family ['cmtt10'] not found. Falling back to DejaVu Sans.\n",
      "findfont: Font family ['cmmi10'] not found. Falling back to DejaVu Sans.\n",
      "findfont: Font family ['cmb10'] not found. Falling back to DejaVu Sans.\n",
      "findfont: Font family ['cmss10'] not found. Falling back to DejaVu Sans.\n",
      "findfont: Font family ['cmex10'] not found. Falling back to DejaVu Sans.\n",
      "findfont: Font family ['DejaVu Sans Display'] not found. Falling back to DejaVu Sans.\n"
     ]
    },
    {
     "data": {
      "image/png": "[encoded data removed]",
      "text/plain": [
       "<Figure size 864x288 with 3 Axes>"
      ]
     },
     "metadata": {
      "needs_background": "light"
     },
     "output_type": "display_data"
    }
   ],
   "source": [
    "####################\n",
    "# plot eigenvalues #\n",
    "####################\n",
    "\n",
    "fig = plt.figure(figsize=[12, 4])\n",
    "ax = fig.add_subplot(131, yscale='log', title='reference eigenvalues', ylim=[1e-16, 20])\n",
    "ax.set_ylabel(r'$\\lambda_i$', fontsize=12)\n",
    "ax.set_xlabel(r'$i$', fontsize=12)\n",
    "ax.plot(range(1, D + 1), eigvals_ref, 's', color='dodgerblue',  markersize=3,)\n",
    "ax.set_xticks(np.arange(1, D + 1, 2))\n",
    "#\n",
    "ax2 = fig.add_subplot(132, yscale='log', title=r'%s eigenvalues, $d=%d$' % (r'$C_{DAS}$', d), ylim=[1e-16, 20])\n",
    "ax2.set_ylabel(r'$\\lambda_i$', fontsize=12)\n",
    "ax2.set_xlabel(r'$i$', fontsize=12)\n",
    "# ax2.plot(range(1, d + 1), eigvals_C_1, 'o', color='salmon', markersize=8, \n",
    "#          label = '%s of %s' % (r'$\\lambda_i$', r'$\\overline{C}_1$'))\n",
    "ax2.plot(range(1, D + 1), eigvals_C_das, 's', color='dodgerblue', markersize=3,\n",
    "         label='%s of %s' % (r'$\\lambda_i$', r'$\\overline{C}_{DAS}$'))\n",
    "ax2.set_xticks(np.arange(1, D + 1, 2))\n",
    "sns.despine(top=True)\n",
    "#\n",
    "ax3 = fig.add_subplot(133, yscale='log', title=r'%s eigenvalues, $d=%d$' % (r'$C_{ANN}$', d), ylim=[1e-16, 20])\n",
    "ax3.set_ylabel(r'$\\lambda_i$', fontsize=12)\n",
    "ax3.set_xlabel(r'$i$', fontsize=12)\n",
    "# ax2.plot(range(1, d + 1), eigvals_C_1, 'o', color='salmon', markersize=8, \n",
    "#          label = '%s of %s' % (r'$\\lambda_i$', r'$\\overline{C}_1$'))\n",
    "ax3.plot(range(1, D + 1), eigvals_C_ann, 's', color='dodgerblue', markersize=3,\n",
    "         label='%s of %s' % (r'$\\lambda_i$', r'$\\overline{C}_{DAS}$'))\n",
    "ax3.set_xticks(np.arange(1, D + 1, 2))\n",
    "sns.despine(top=True)\n",
    "#\n",
    "plt.legend(loc=0, frameon=False)\n",
    "plt.tight_layout()"
   ]
  },
  {
   "cell_type": "markdown",
   "id": "b582eaaa",
   "metadata": {},
   "source": [
    "### Recreate the active subspace plot"
   ]
  },
  {
   "cell_type": "code",
   "execution_count": 16,
   "id": "59bb0cba",
   "metadata": {},
   "outputs": [],
   "source": [
    "#########################\n",
    "# plot active subspaces #\n",
    "#########################\n",
    "\n",
    "# Generate new code validation samples\n",
    "from HIV_model import *\n",
    "n_val = 100\n",
    "x_val = np.random.rand(n_val, D) * 2 - 1\n",
    "val_samples = Tcells(x_val, np.linspace(1, times[I], times[I]))[:, -1]"
   ]
  },
  {
   "cell_type": "code",
   "execution_count": 17,
   "id": "d11854c3",
   "metadata": {},
   "outputs": [
    {
     "data": {
      "image/png": "[encoded data removed]",
      "text/plain": [
       "<Figure size 864x288 with 3 Axes>"
      ]
     },
     "metadata": {
      "needs_background": "light"
     },
     "output_type": "display_data"
    }
   ],
   "source": [
    "y_val = np.dot(W_1.T, x_val.T).T\n",
    "y_val_ann = np.dot(V_1.T, x_val.T).T\n",
    "y_val_ann_uc = np.dot(R_1.T, x_val.T).T\n",
    "\n",
    "# plot DAS surrogate in y coordinate\n",
    "fig = plt.figure(figsize=[12, 4])\n",
    "ax = fig.add_subplot(131)\n",
    "ax.set_xlabel(r'$y_1$', fontsize=12)\n",
    "ax.set_ylabel(r'$\\widetilde{G}\\left(y_1\\right)$', fontsize=12)\n",
    "ax.plot(y_val, val_samples, 's', color='dodgerblue', label='validation samples') \n",
    "ax.plot(y_das, das_samples, '+', color='salmon', label='DAS', alpha=0.5)\n",
    "leg = ax.legend(loc=0, frameon=False)\n",
    "leg.set_draggable(True)\n",
    "sns.despine(top=True)\n",
    "plt.tight_layout()\n",
    "\n",
    "# plot ANN surrogate in y coordinate\n",
    "ax = fig.add_subplot(132)\n",
    "ax.set_xlabel(r'$y_1$', fontsize=12)\n",
    "ax.set_ylabel(r'$\\widetilde{G}\\left(y_1\\right)$', fontsize=12)\n",
    "ax.plot(y_val_ann, val_samples, 's', color='dodgerblue', label='validation samples') \n",
    "ax.plot(y_ann, ann_samples, '+', color='salmon', label='ANN (d=1)', alpha=0.5)\n",
    "leg = ax.legend(loc=0, frameon=False)\n",
    "leg.set_draggable(True)\n",
    "sns.despine(top=True)\n",
    "plt.tight_layout()\n",
    "\n",
    "ax = fig.add_subplot(133)\n",
    "ax.set_xlabel(r'$y_1$', fontsize=12)\n",
    "ax.set_ylabel(r'$\\widetilde{G}\\left(y_1\\right)$', fontsize=12)\n",
    "ax.plot(y_val_ann_uc, val_samples, 's', color='dodgerblue', label='validation samples') \n",
    "ax.plot(y_ann_uc, ann_uc_samples, '+', color='salmon', label='unconstrained ANN', alpha=0.5)\n",
    "leg = ax.legend(loc=0, frameon=False)\n",
    "leg.set_draggable(True)\n",
    "sns.despine(top=True)\n",
    "plt.tight_layout()"
   ]
  },
  {
   "cell_type": "markdown",
   "id": "54ad79c2",
   "metadata": {},
   "source": [
    "### Plot the linear-regression active results"
   ]
  },
  {
   "cell_type": "code",
   "execution_count": 18,
   "id": "fa9440bc",
   "metadata": {},
   "outputs": [
    {
     "data": {
      "image/png": "[encoded data removed]",
      "text/plain": [
       "<Figure size 288x288 with 1 Axes>"
      ]
     },
     "metadata": {
      "needs_background": "light"
     },
     "output_type": "display_data"
    }
   ],
   "source": [
    "y_val_dirty = np.dot(w1_dirty.T, x_val.T).T\n",
    "y_dirty = np.dot(w1_dirty.T, params.T).T\n",
    "dirty_samples = np.dot(X_hat, a_hat)\n",
    "\n",
    "fig = plt.figure(figsize=[4,4])\n",
    "ax = fig.add_subplot(111, ylim=[-20, 600])\n",
    "ax.set_xlabel(r'$y_1$', fontsize=12)\n",
    "ax.set_ylabel(r'$\\widetilde{G}\\left(y_1\\right)$', fontsize=12)\n",
    "ax.plot(y_val_dirty, val_samples, 's', color='dodgerblue', label='validation samples')\n",
    "ax.plot(y_dirty, dirty_samples, '+', color='salmon', label='linear regression', alpha=0.5)\n",
    "leg = ax.legend(loc=0, frameon=False)\n",
    "leg.set_draggable(True)\n",
    "sns.despine(top=True)\n",
    "plt.tight_layout()\n",
    "plt.savefig(\"foo.pdf\")"
   ]
  },
  {
   "cell_type": "markdown",
   "id": "0cd76ef3",
   "metadata": {},
   "source": [
    "### Recreate the C heat maps"
   ]
  },
  {
   "cell_type": "code",
   "execution_count": 19,
   "id": "3a0bb2e4",
   "metadata": {},
   "outputs": [
    {
     "data": {
      "image/png": "[encoded data removed]",
      "text/plain": [
       "<Figure size 864x288 with 6 Axes>"
      ]
     },
     "metadata": {
      "needs_background": "light"
     },
     "output_type": "display_data"
    }
   ],
   "source": [
    "#####################################\n",
    "# plot a heat map of the C matrices #\n",
    "#####################################\n",
    "\n",
    "fig = plt.figure(figsize=[12,4])\n",
    "ax1 = fig.add_subplot(131, title=r'$\\overline{C}_{REF}$', xlabel='$i$', ylabel='$j$')\n",
    "im = ax1.imshow(C_ref)\n",
    "plt.colorbar(im)\n",
    "ax2 = fig.add_subplot(132, title=r'$\\overline{C}_{DAS},\\; d=%d$' % d, xlabel='$i$', ylabel='$j$')\n",
    "im = ax2.imshow(C_das)\n",
    "plt.colorbar(im)\n",
    "ax3 = fig.add_subplot(133, title=r'$\\overline{C}_{ANN},\\; d=%d$' % d, xlabel='$i$', ylabel='$j$')\n",
    "im = ax3.imshow(C_ann)\n",
    "plt.colorbar(im)\n",
    "plt.tight_layout()"
   ]
  },
  {
   "cell_type": "markdown",
   "id": "e5880548",
   "metadata": {},
   "source": [
    "### Recreate the global-derivative based sensitivity plots"
   ]
  },
  {
   "cell_type": "code",
   "execution_count": 20,
   "id": "8b75f166",
   "metadata": {},
   "outputs": [],
   "source": [
    "def sensitivity(idx, V_i, **kwargs):\n",
    "    # Parameter names\n",
    "    param_names = np.array([r'$s_1$', r'$s_2$', r'$s_3$', r'$p_1$', r'$C_1$', r'$K_1$', r'$K_2$', r'$K_3$',\n",
    "                   r'$K_4$', r'$K_5$', r'$K_6$', r'$K_7$', r'$K_8$', r'$K_9$', r'$K_{10}$',\n",
    "                   r'$K_{11}$', r'$K_{12}$', r'$K_{13}$', r'$\\delta_1$', r'$\\delta_2$',\n",
    "                   r'$\\delta_3$', r'$\\delta_4$', r'$\\delta_5$', r'$\\delta_6$', r'$\\delta_7$', r'$\\alpha_1$',\n",
    "                   r'$\\psi$'])\n",
    "    \n",
    "    fig = plt.figure(figsize=[4, 8])\n",
    "    ax = fig.add_subplot(111, title=kwargs.get('title', ''))\n",
    "    # ax.set_ylabel(r'$\\int\\left(\\frac{\\partial f}{\\partial x_i}\\right)^2 p({\\bf x})d{\\bf x}$', fontsize=14)\n",
    "    ax.set_xlabel(r'$\\nu_i$', fontsize=14)    \n",
    "    ax.barh(range(V_i.size), width = V_i[idx].flatten(), color = 'dodgerblue')\n",
    "    ax.set_yticks(range(V_i.size))\n",
    "    ax.set_yticklabels(param_names[idx[0]], fontsize=14)\n",
    "    # plt.xticks(rotation=90)\n",
    "    ax.invert_yaxis()\n",
    "    sns.despine(top=True)\n",
    "    plt.tight_layout()"
   ]
  },
  {
   "cell_type": "code",
   "execution_count": 21,
   "id": "60bff6d5",
   "metadata": {
    "scrolled": false
   },
   "outputs": [
    {
     "name": "stdout",
     "output_type": "stream",
     "text": [
      "Creating DAS_analysis object\n",
      "Creating ANN_analysis object\n",
      "[ 0.01459843 -0.00788863 -0.03701837 -0.01337764 -0.02782644  0.0264299\n",
      "  0.01299686 -0.01248487 -0.0005602   0.02968478 -0.01241041 -0.00324068\n",
      "  0.00076574 -0.01593965  0.00965141 -0.0052904   0.01762609 -0.02341303\n",
      " -0.01204422 -0.03437637  0.02309029 -0.00039083  0.00212377 -0.00610452\n",
      "  0.028341    0.01615835 -0.00536695]\n",
      "Parameters ordered from most to least important:\n",
      "[[ 8 24 21  9 23 13 14 11  1 22  2 10  3  4 26  5  0  7 18 19 15 16 20  6\n",
      "  17 25 12]]\n",
      "Parameters ordered from most to least important:\n",
      "[[ 8 24 21  9 23 13 14  1 11 22  2 10  3  4  5 26  0  7 18 19 15 16 17  6\n",
      "  12 25 20]]\n",
      "Parameters ordered according to the reference activity score\n",
      "[[ 8 24 21  9 23 13 14  1 11 22  2 10  3  4  5 26  0  7 18 19 15 20 16 17\n",
      "  25  6 12]]\n"
     ]
    },
    {
     "data": {
      "image/png": "[encoded data removed]",
      "text/plain": [
       "<Figure size 288x576 with 1 Axes>"
      ]
     },
     "metadata": {
      "needs_background": "light"
     },
     "output_type": "display_data"
    },
    {
     "data": {
      "image/png": "[encoded data removed]",
      "text/plain": [
       "<Figure size 288x576 with 1 Axes>"
      ]
     },
     "metadata": {
      "needs_background": "light"
     },
     "output_type": "display_data"
    },
    {
     "data": {
      "image/png": "[encoded data removed]",
      "text/plain": [
       "<Figure size 288x576 with 1 Axes>"
      ]
     },
     "metadata": {
      "needs_background": "light"
     },
     "output_type": "display_data"
    }
   ],
   "source": [
    "#####################################\n",
    "# global gradient-based sensitivity #\n",
    "#####################################\n",
    "\n",
    "das_analysis = es.analysis.DAS_analysis(das_surrogate)\n",
    "ann_analysis = es.analysis.ANN_analysis(ann_surrogate)\n",
    "\n",
    "idx, V_i = das_analysis.sensitivity_measures(params, norm=False)\n",
    "sensitivity(idx, V_i, title = 'DAS')\n",
    "\n",
    "idx, V_i = ann_analysis.sensitivity_measures(params, norm=False)\n",
    "sensitivity(idx, V_i, title = 'ANN (d=1)')\n",
    "\n",
    "print('Parameters ordered according to the reference activity score')\n",
    "V_i_ref = np.diag(C_ref)\n",
    "idx_ref = np.flipud(np.argsort(np.diag(C_ref))).reshape([1, -1])\n",
    "print(idx_ref)\n",
    "sensitivity(idx_ref, V_i_ref, title='reference')"
   ]
  },
  {
   "cell_type": "markdown",
   "id": "3fbce089",
   "metadata": {},
   "source": [
    "### Error analysis\n",
    "\n",
    "The errors were computed using 100 replica networks, which takes a long time (several hours). The errors are therefore loaded from memory using the files `errors_n_neurons100.hdf5` or  `errors_n_neurons10.hdf5`, corresponding to the case of 10 or 100 neurons per hidden layer.\n",
    "\n",
    "We also include the data with 100 neurons, and $d=2$ in `errors_n_neurons100_d2.hdf5`.\n",
    "\n",
    "If you still wish to recompute the errors, execute `recompute_HIV_errors.py`. Note that it is possible that (1 or 2) outliers are present, where one of the replica neural networks did not converge properly. We removed these from the HDF5 files."
   ]
  },
  {
   "cell_type": "code",
   "execution_count": 22,
   "id": "1f30438c",
   "metadata": {},
   "outputs": [],
   "source": [
    "def get_error_CI(err):\n",
    "    mean_err = np.mean(err, axis=0)\n",
    "    lower, upper = analysis.get_confidence_intervals(err, conf=conf)\n",
    "    err = np.array([mean_err - lower, upper - mean_err])\n",
    "\n",
    "    return mean_err, err"
   ]
  },
  {
   "cell_type": "code",
   "execution_count": 25,
   "id": "219ea111",
   "metadata": {},
   "outputs": [
    {
     "name": "stdout",
     "output_type": "stream",
     "text": [
      "Loaded err_ANN\n",
      "Loaded err_ANN_unconstrained\n",
      "Loaded err_DAS\n"
     ]
    },
    {
     "data": {
      "image/png": "[encoded data removed]",
      "text/plain": [
       "<Figure size 576x288 with 2 Axes>"
      ]
     },
     "metadata": {
      "needs_background": "light"
     },
     "output_type": "display_data"
    }
   ],
   "source": [
    "# number of neurons, replicas and tra\n",
    "n_test_fracs = 10\n",
    "\n",
    "test_fracs = np.linspace(0.5, 0.1, n_test_fracs)\n",
    "\n",
    "# 10 neurons, d=1\n",
    "#file = 'errors_n_neurons10.hdf5'\n",
    "# 100 neurons, d=1\n",
    "file = 'errors_n_neurons100.hdf5'\n",
    "# 100 neurons, d=2\n",
    "#file = 'errors_n_neurons100_d2.hdf5'\n",
    "\n",
    "errors = campaign.load_hdf5_data(file_path=file)\n",
    "err_ANN_unconstrained = errors['err_ANN_unconstrained']\n",
    "err_ANN = errors['err_ANN']\n",
    "err_DAS = errors['err_DAS']\n",
    "\n",
    "# trun into percentage\n",
    "err_ANN *= 100\n",
    "err_DAS *= 100\n",
    "err_ANN_unconstrained *= 100\n",
    "# select confidence\n",
    "conf = 0.95\n",
    "# size of training data used\n",
    "data_size = (1 - test_fracs) * samples.shape[0]\n",
    "# mean and CI of ANN training error\n",
    "analysis = es.analysis.BaseAnalysis()\n",
    "\n",
    "mean_ANN_err_training, err_ANN_training = get_error_CI(err_ANN[:,:,0])\n",
    "mean_DAS_err_training, err_DAS_training = get_error_CI(err_DAS[:,:,0])\n",
    "mean_ANN_unconstrained_training, err_ANN_unconstrained_training = get_error_CI(err_ANN_unconstrained[:,:,0])\n",
    "\n",
    "mean_ANN_err_test, err_ANN_test = get_error_CI(err_ANN[:,:,1])\n",
    "mean_DAS_err_test, err_DAS_test = get_error_CI(err_DAS[:,:,1])\n",
    "mean_ANN_unconstrained_test, err_ANN_unconstrained_test = get_error_CI(err_ANN_unconstrained[:,:,1])\n",
    "\n",
    "# plot results\n",
    "import seaborn as sns\n",
    "fig = plt.figure(figsize=[8, 4])\n",
    "ax = fig.add_subplot(121)\n",
    "ax.set_xlabel('training data size')\n",
    "ax.set_ylabel('relative error e [%]')\n",
    "ax.set_title('training error')\n",
    "sns.despine(top=True)\n",
    "offset=5\n",
    "\n",
    "# make the CI plots\n",
    "#ax.errorbar(data_size-offset, mean_ANN_unconstrained_training, \n",
    "#            yerr=err_ANN_unconstrained_training, fmt='o', color='dodgerblue', label='unconstrained ANN, 95% CI')\n",
    "#ax.errorbar(data_size, mean_ANN_err_training, yerr=err_ANN_training, fmt='^', \n",
    "#            color='mediumaquamarine', label='ANN (d=1), 95% CI')\n",
    "#ax.errorbar(data_size+offset, mean_DAS_err_training, yerr=err_DAS_training, fmt='s', \n",
    "#            color='salmon', label='DAS, 95% CI')\n",
    "\n",
    "# make the plot using all samples, not with confidence intervals\n",
    "ax.plot(data_size-offset, mean_ANN_unconstrained_training, 'o', color='dodgerblue',\n",
    "        label='unconstrained ANN, 95% CI')\n",
    "ax.plot(data_size-offset, err_ANN_unconstrained[:,:,0].T, '.', color='dodgerblue')\n",
    "\n",
    "ax.plot(data_size, mean_ANN_err_training, '^', color='mediumaquamarine',\n",
    "        label='ANN (d=1), 95% CI')\n",
    "ax.plot(data_size, err_ANN[:,:,0].T, '.', color='mediumaquamarine')\n",
    "\n",
    "ax.plot(data_size+offset, mean_DAS_err_training, 's', color='salmon', label='DAS, 95% CI')\n",
    "ax.plot(data_size+offset, err_DAS[:,:,0].T, '.', color='salmon')\n",
    "\n",
    "leg = ax.legend(loc=0, frameon=False)\n",
    "#\n",
    "ax2 = fig.add_subplot(122, sharey=ax)\n",
    "ax2.set_xlabel('training data size')\n",
    "ax2.set_title('test error')\n",
    "\n",
    "# make the CI plots\n",
    "#ax2.errorbar(data_size, mean_ANN_err_test, yerr=err_ANN_test, fmt='^', color='mediumaquamarine')\n",
    "#ax2.errorbar(data_size+offset, mean_DAS_err_test, yerr=err_DAS_test, fmt='s', color='salmon')\n",
    "#ax2.errorbar(data_size-offset, mean_ANN_unconstrained_test, yerr=err_ANN_unconstrained_test,\n",
    "#             fmt='o', color='dodgerblue')\n",
    "\n",
    "# make the plot using all samples, not with confidence intervals\n",
    "ax2.plot(data_size, mean_ANN_err_test, '^', color='mediumaquamarine')\n",
    "ax2.plot(data_size, err_ANN[:,:,1].T, '.', color='mediumaquamarine')\n",
    "\n",
    "ax2.plot(data_size+offset, mean_DAS_err_test, 's', color='salmon')\n",
    "ax2.plot(data_size+offset, err_DAS[:,:,1].T, '.', color='salmon')\n",
    "\n",
    "ax2.plot(data_size-offset, mean_ANN_unconstrained_test, 'o', color='dodgerblue')\n",
    "ax2.plot(data_size-offset, err_ANN_unconstrained[:,:,1].T, '.', color='dodgerblue')\n",
    "\n",
    "sns.despine(left=True, ax=ax2)\n",
    "ax2.get_yaxis().set_visible(False)\n",
    "plt.tight_layout()\n"
   ]
  },
  {
   "cell_type": "code",
   "execution_count": null,
   "id": "614618a3",
   "metadata": {},
   "outputs": [],
   "source": []
  }
 ],
 "metadata": {
  "kernelspec": {
   "display_name": "Python 3 (ipykernel)",
   "language": "python",
   "name": "python3"
  },
  "language_info": {
   "codemirror_mode": {
    "name": "ipython",
    "version": 3
   },
   "file_extension": ".py",
   "mimetype": "text/x-python",
   "name": "python",
   "nbconvert_exporter": "python",
   "pygments_lexer": "ipython3",
   "version": "3.7.7"
  }
 },
 "nbformat": 4,
 "nbformat_minor": 5
}
